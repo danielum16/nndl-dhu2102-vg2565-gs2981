{
 "cells": [
  {
   "cell_type": "code",
   "execution_count": 49,
   "metadata": {},
   "outputs": [
    {
     "name": "stdout",
     "output_type": "stream",
     "text": [
      "Found 5093 validated image filenames belonging to 88 classes.\n",
      "Found 1274 validated image filenames belonging to 88 classes.\n"
     ]
    }
   ],
   "source": [
    "import pandas as pd\n",
    "import numpy as np\n",
    "import os\n",
    "from sklearn.model_selection import train_test_split\n",
    "from tensorflow.keras.preprocessing.image import ImageDataGenerator\n",
    "from tensorflow.keras.applications.efficientnet import EfficientNetB3, preprocess_input\n",
    "from tensorflow.keras.layers import GlobalAveragePooling2D, Dense\n",
    "from tensorflow.keras.models import Model\n",
    "from tensorflow.keras.optimizers import Adam\n",
    "\n",
    "# Load the CSV files\n",
    "train_data_df = pd.read_csv('Released_Data/archive_augmented/train_data_new.csv')\n",
    "super_classes_df = pd.read_csv('Released_Data/superclass_mapping.csv')\n",
    "sub_classes_df = pd.read_csv('Released_Data/subclass_mapping.csv')\n",
    "\n",
    "# Rename\n",
    "super_classes_df.rename(columns={'class': 'superclass_name'}, inplace=True)\n",
    "sub_classes_df.rename(columns={'class': 'subclass_name'}, inplace=True)\n",
    "\n",
    "# Merge the class names with the training data\n",
    "train_data_df = train_data_df.merge(super_classes_df, left_on='superclass_index', right_on='index', how='left')\n",
    "train_data_df = train_data_df.merge(sub_classes_df, left_on='subclass_index', right_on='index', how='left')\n",
    "\n",
    "# Superclass_name (can replace with subclass_name depending on classification task)\n",
    "train_data_df['class'] = train_data_df['subclass_name']\n",
    "\n",
    "# Split the dataset into training and validation sets\n",
    "train_df, validation_df = train_test_split(train_data_df, test_size=0.2)\n",
    "\n",
    "# Initialize the ImageDataGenerator with EfficientNet's preprocess_input\n",
    "datagen = ImageDataGenerator(preprocessing_function=preprocess_input)\n",
    "\n",
    "# Image folder path\n",
    "image_folder_path = 'Released_Data/train_shuffle_augmented'\n",
    "\n",
    "# Load and preprocess images for training\n",
    "train_generator = datagen.flow_from_dataframe(\n",
    "    dataframe=train_df,\n",
    "    directory=image_folder_path,\n",
    "    x_col='image',\n",
    "    y_col='class',\n",
    "    class_mode='categorical',\n",
    "    target_size=(300, 300),\n",
    "    batch_size=32\n",
    ")\n",
    "\n",
    "# Load and preprocess images for validation\n",
    "validation_generator = datagen.flow_from_dataframe(\n",
    "    dataframe=validation_df,\n",
    "    directory=image_folder_path,\n",
    "    x_col='image',\n",
    "    y_col='class',\n",
    "    class_mode='categorical',\n",
    "    target_size=(300, 300),\n",
    "    batch_size=32\n",
    ")\n",
    "\n"
   ]
  },
  {
   "cell_type": "code",
   "execution_count": 50,
   "metadata": {},
   "outputs": [],
   "source": [
    "# Load pre-trained EfficientNetB3\n",
    "base_model = EfficientNetB3(weights='imagenet', include_top=False, input_shape=(300, 300, 3))\n",
    "\n",
    "# Freeze the base model\n",
    "base_model.trainable = False\n",
    "\n",
    "# Actual number of subclasses: \n",
    "num_subclasses = train_data_df['subclass_index'].nunique()\n",
    "\n",
    "# Add custom top layers\n",
    "x = GlobalAveragePooling2D()(base_model.output)\n",
    "output = Dense(len(sub_classes_df), activation='softmax')(x) # Number of classes\n",
    "model = Model(inputs=base_model.input, outputs=output)\n",
    "\n",
    "# Compile the model\n",
    "model.compile(optimizer=Adam(learning_rate=0.001), loss='categorical_crossentropy', metrics=['accuracy'])"
   ]
  },
  {
   "cell_type": "code",
   "execution_count": 51,
   "metadata": {},
   "outputs": [
    {
     "data": {
      "text/plain": [
       "5093"
      ]
     },
     "execution_count": 51,
     "metadata": {},
     "output_type": "execute_result"
    }
   ],
   "source": [
    "len(train_df)"
   ]
  },
  {
   "cell_type": "code",
   "execution_count": 52,
   "metadata": {},
   "outputs": [
    {
     "data": {
      "text/plain": [
       "1274"
      ]
     },
     "execution_count": 52,
     "metadata": {},
     "output_type": "execute_result"
    }
   ],
   "source": [
    "len(validation_df)"
   ]
  },
  {
   "cell_type": "code",
   "execution_count": 53,
   "metadata": {},
   "outputs": [
    {
     "data": {
      "text/html": [
       "<div>\n",
       "<style scoped>\n",
       "    .dataframe tbody tr th:only-of-type {\n",
       "        vertical-align: middle;\n",
       "    }\n",
       "\n",
       "    .dataframe tbody tr th {\n",
       "        vertical-align: top;\n",
       "    }\n",
       "\n",
       "    .dataframe thead th {\n",
       "        text-align: right;\n",
       "    }\n",
       "</style>\n",
       "<table border=\"1\" class=\"dataframe\">\n",
       "  <thead>\n",
       "    <tr style=\"text-align: right;\">\n",
       "      <th></th>\n",
       "      <th>image</th>\n",
       "      <th>superclass_index</th>\n",
       "      <th>subclass_index</th>\n",
       "      <th>index_x</th>\n",
       "      <th>superclass_name</th>\n",
       "      <th>index_y</th>\n",
       "      <th>subclass_name</th>\n",
       "      <th>class</th>\n",
       "    </tr>\n",
       "  </thead>\n",
       "  <tbody>\n",
       "    <tr>\n",
       "      <th>0</th>\n",
       "      <td>0.jpg</td>\n",
       "      <td>1</td>\n",
       "      <td>37</td>\n",
       "      <td>1</td>\n",
       "      <td>dog</td>\n",
       "      <td>37</td>\n",
       "      <td>Maltese dog, Maltese terrier, Maltese</td>\n",
       "      <td>Maltese dog, Maltese terrier, Maltese</td>\n",
       "    </tr>\n",
       "    <tr>\n",
       "      <th>1</th>\n",
       "      <td>1.jpg</td>\n",
       "      <td>0</td>\n",
       "      <td>42</td>\n",
       "      <td>0</td>\n",
       "      <td>bird</td>\n",
       "      <td>42</td>\n",
       "      <td>oystercatcher, oyster catcher</td>\n",
       "      <td>oystercatcher, oyster catcher</td>\n",
       "    </tr>\n",
       "    <tr>\n",
       "      <th>2</th>\n",
       "      <td>2.jpg</td>\n",
       "      <td>1</td>\n",
       "      <td>62</td>\n",
       "      <td>1</td>\n",
       "      <td>dog</td>\n",
       "      <td>62</td>\n",
       "      <td>Afghan hound, Afghan</td>\n",
       "      <td>Afghan hound, Afghan</td>\n",
       "    </tr>\n",
       "    <tr>\n",
       "      <th>3</th>\n",
       "      <td>3.jpg</td>\n",
       "      <td>1</td>\n",
       "      <td>31</td>\n",
       "      <td>1</td>\n",
       "      <td>dog</td>\n",
       "      <td>31</td>\n",
       "      <td>Shih-Tzu</td>\n",
       "      <td>Shih-Tzu</td>\n",
       "    </tr>\n",
       "    <tr>\n",
       "      <th>4</th>\n",
       "      <td>4.jpg</td>\n",
       "      <td>0</td>\n",
       "      <td>4</td>\n",
       "      <td>0</td>\n",
       "      <td>bird</td>\n",
       "      <td>4</td>\n",
       "      <td>great grey owl, great gray owl, Strix nebulosa</td>\n",
       "      <td>great grey owl, great gray owl, Strix nebulosa</td>\n",
       "    </tr>\n",
       "  </tbody>\n",
       "</table>\n",
       "</div>"
      ],
      "text/plain": [
       "   image  superclass_index  subclass_index  index_x superclass_name  index_y  \\\n",
       "0  0.jpg                 1              37        1             dog       37   \n",
       "1  1.jpg                 0              42        0            bird       42   \n",
       "2  2.jpg                 1              62        1             dog       62   \n",
       "3  3.jpg                 1              31        1             dog       31   \n",
       "4  4.jpg                 0               4        0            bird        4   \n",
       "\n",
       "                                    subclass_name  \\\n",
       "0           Maltese dog, Maltese terrier, Maltese   \n",
       "1                   oystercatcher, oyster catcher   \n",
       "2                            Afghan hound, Afghan   \n",
       "3                                        Shih-Tzu   \n",
       "4  great grey owl, great gray owl, Strix nebulosa   \n",
       "\n",
       "                                            class  \n",
       "0           Maltese dog, Maltese terrier, Maltese  \n",
       "1                   oystercatcher, oyster catcher  \n",
       "2                            Afghan hound, Afghan  \n",
       "3                                        Shih-Tzu  \n",
       "4  great grey owl, great gray owl, Strix nebulosa  "
      ]
     },
     "execution_count": 53,
     "metadata": {},
     "output_type": "execute_result"
    }
   ],
   "source": [
    "train_data_df.head()"
   ]
  },
  {
   "cell_type": "code",
   "execution_count": 54,
   "metadata": {},
   "outputs": [
    {
     "data": {
      "text/html": [
       "<div>\n",
       "<style scoped>\n",
       "    .dataframe tbody tr th:only-of-type {\n",
       "        vertical-align: middle;\n",
       "    }\n",
       "\n",
       "    .dataframe tbody tr th {\n",
       "        vertical-align: top;\n",
       "    }\n",
       "\n",
       "    .dataframe thead th {\n",
       "        text-align: right;\n",
       "    }\n",
       "</style>\n",
       "<table border=\"1\" class=\"dataframe\">\n",
       "  <thead>\n",
       "    <tr style=\"text-align: right;\">\n",
       "      <th></th>\n",
       "      <th>image</th>\n",
       "      <th>superclass_index</th>\n",
       "      <th>subclass_index</th>\n",
       "      <th>index_x</th>\n",
       "      <th>superclass_name</th>\n",
       "      <th>index_y</th>\n",
       "      <th>subclass_name</th>\n",
       "      <th>class</th>\n",
       "    </tr>\n",
       "  </thead>\n",
       "  <tbody>\n",
       "    <tr>\n",
       "      <th>6362</th>\n",
       "      <td>6362.jpg</td>\n",
       "      <td>3</td>\n",
       "      <td>87</td>\n",
       "      <td>3</td>\n",
       "      <td>novel</td>\n",
       "      <td>87</td>\n",
       "      <td>novel</td>\n",
       "      <td>novel</td>\n",
       "    </tr>\n",
       "    <tr>\n",
       "      <th>6363</th>\n",
       "      <td>6363.jpg</td>\n",
       "      <td>3</td>\n",
       "      <td>87</td>\n",
       "      <td>3</td>\n",
       "      <td>novel</td>\n",
       "      <td>87</td>\n",
       "      <td>novel</td>\n",
       "      <td>novel</td>\n",
       "    </tr>\n",
       "    <tr>\n",
       "      <th>6364</th>\n",
       "      <td>6364.jpg</td>\n",
       "      <td>3</td>\n",
       "      <td>87</td>\n",
       "      <td>3</td>\n",
       "      <td>novel</td>\n",
       "      <td>87</td>\n",
       "      <td>novel</td>\n",
       "      <td>novel</td>\n",
       "    </tr>\n",
       "    <tr>\n",
       "      <th>6365</th>\n",
       "      <td>6365.jpg</td>\n",
       "      <td>3</td>\n",
       "      <td>87</td>\n",
       "      <td>3</td>\n",
       "      <td>novel</td>\n",
       "      <td>87</td>\n",
       "      <td>novel</td>\n",
       "      <td>novel</td>\n",
       "    </tr>\n",
       "    <tr>\n",
       "      <th>6366</th>\n",
       "      <td>6366.jpg</td>\n",
       "      <td>3</td>\n",
       "      <td>87</td>\n",
       "      <td>3</td>\n",
       "      <td>novel</td>\n",
       "      <td>87</td>\n",
       "      <td>novel</td>\n",
       "      <td>novel</td>\n",
       "    </tr>\n",
       "  </tbody>\n",
       "</table>\n",
       "</div>"
      ],
      "text/plain": [
       "         image  superclass_index  subclass_index  index_x superclass_name  \\\n",
       "6362  6362.jpg                 3              87        3           novel   \n",
       "6363  6363.jpg                 3              87        3           novel   \n",
       "6364  6364.jpg                 3              87        3           novel   \n",
       "6365  6365.jpg                 3              87        3           novel   \n",
       "6366  6366.jpg                 3              87        3           novel   \n",
       "\n",
       "      index_y subclass_name  class  \n",
       "6362       87         novel  novel  \n",
       "6363       87         novel  novel  \n",
       "6364       87         novel  novel  \n",
       "6365       87         novel  novel  \n",
       "6366       87         novel  novel  "
      ]
     },
     "execution_count": 54,
     "metadata": {},
     "output_type": "execute_result"
    }
   ],
   "source": [
    "train_data_df.tail()"
   ]
  },
  {
   "cell_type": "code",
   "execution_count": 55,
   "metadata": {},
   "outputs": [],
   "source": [
    "test_image_folder = 'Released_Data/train_shuffle_augmented'\n",
    "image_files = [os.path.join(test_image_folder, img) for img in os.listdir(test_image_folder) if img.endswith('.jpg')]\n",
    "train_df = pd.DataFrame(image_files, columns=['filename'])\n"
   ]
  },
  {
   "cell_type": "code",
   "execution_count": 56,
   "metadata": {},
   "outputs": [
    {
     "data": {
      "text/html": [
       "<div>\n",
       "<style scoped>\n",
       "    .dataframe tbody tr th:only-of-type {\n",
       "        vertical-align: middle;\n",
       "    }\n",
       "\n",
       "    .dataframe tbody tr th {\n",
       "        vertical-align: top;\n",
       "    }\n",
       "\n",
       "    .dataframe thead th {\n",
       "        text-align: right;\n",
       "    }\n",
       "</style>\n",
       "<table border=\"1\" class=\"dataframe\">\n",
       "  <thead>\n",
       "    <tr style=\"text-align: right;\">\n",
       "      <th></th>\n",
       "      <th>filename</th>\n",
       "    </tr>\n",
       "  </thead>\n",
       "  <tbody>\n",
       "    <tr>\n",
       "      <th>6362</th>\n",
       "      <td>Released_Data/train_shuffle_augmented/5676.jpg</td>\n",
       "    </tr>\n",
       "    <tr>\n",
       "      <th>6363</th>\n",
       "      <td>Released_Data/train_shuffle_augmented/2119.jpg</td>\n",
       "    </tr>\n",
       "    <tr>\n",
       "      <th>6364</th>\n",
       "      <td>Released_Data/train_shuffle_augmented/5110.jpg</td>\n",
       "    </tr>\n",
       "    <tr>\n",
       "      <th>6365</th>\n",
       "      <td>Released_Data/train_shuffle_augmented/3561.jpg</td>\n",
       "    </tr>\n",
       "    <tr>\n",
       "      <th>6366</th>\n",
       "      <td>Released_Data/train_shuffle_augmented/1376.jpg</td>\n",
       "    </tr>\n",
       "  </tbody>\n",
       "</table>\n",
       "</div>"
      ],
      "text/plain": [
       "                                            filename\n",
       "6362  Released_Data/train_shuffle_augmented/5676.jpg\n",
       "6363  Released_Data/train_shuffle_augmented/2119.jpg\n",
       "6364  Released_Data/train_shuffle_augmented/5110.jpg\n",
       "6365  Released_Data/train_shuffle_augmented/3561.jpg\n",
       "6366  Released_Data/train_shuffle_augmented/1376.jpg"
      ]
     },
     "execution_count": 56,
     "metadata": {},
     "output_type": "execute_result"
    }
   ],
   "source": [
    "train_df.tail()"
   ]
  },
  {
   "cell_type": "code",
   "execution_count": 57,
   "metadata": {},
   "outputs": [
    {
     "name": "stdout",
     "output_type": "stream",
     "text": [
      "Epoch 1/10\n",
      "160/160 [==============================] - 1749s 11s/step - loss: 3.2967 - accuracy: 0.2653 - val_loss: 2.3216 - val_accuracy: 0.4757\n",
      "Epoch 2/10\n",
      "160/160 [==============================] - 1645s 10s/step - loss: 2.1848 - accuracy: 0.4891 - val_loss: 1.8757 - val_accuracy: 0.5526\n",
      "Epoch 3/10\n",
      "160/160 [==============================] - 1628s 10s/step - loss: 1.8196 - accuracy: 0.5761 - val_loss: 1.6856 - val_accuracy: 0.5730\n",
      "Epoch 4/10\n",
      "160/160 [==============================] - 1594s 10s/step - loss: 1.6306 - accuracy: 0.6022 - val_loss: 1.5341 - val_accuracy: 0.6083\n",
      "Epoch 5/10\n",
      "160/160 [==============================] - 1642s 10s/step - loss: 1.4777 - accuracy: 0.6448 - val_loss: 1.4477 - val_accuracy: 0.6146\n",
      "Epoch 6/10\n",
      "160/160 [==============================] - 1574s 10s/step - loss: 1.3651 - accuracy: 0.6674 - val_loss: 1.3966 - val_accuracy: 0.6460\n",
      "Epoch 7/10\n",
      "160/160 [==============================] - 1011s 6s/step - loss: 1.2526 - accuracy: 0.6951 - val_loss: 1.3513 - val_accuracy: 0.6334\n",
      "Epoch 8/10\n",
      "160/160 [==============================] - 973s 6s/step - loss: 1.1995 - accuracy: 0.7118 - val_loss: 1.3173 - val_accuracy: 0.6429\n",
      "Epoch 9/10\n",
      "160/160 [==============================] - 979s 6s/step - loss: 1.1092 - accuracy: 0.7336 - val_loss: 1.3081 - val_accuracy: 0.6499\n",
      "Epoch 10/10\n",
      "160/160 [==============================] - 986s 6s/step - loss: 1.0685 - accuracy: 0.7404 - val_loss: 1.2623 - val_accuracy: 0.6562\n",
      "Epoch 1/10\n",
      "160/160 [==============================] - 1160s 7s/step - loss: 0.9671 - accuracy: 0.7483 - val_loss: 1.0496 - val_accuracy: 0.7080\n",
      "Epoch 2/10\n",
      "160/160 [==============================] - 1156s 7s/step - loss: 0.7187 - accuracy: 0.8186 - val_loss: 0.9750 - val_accuracy: 0.7151\n",
      "Epoch 3/10\n",
      "160/160 [==============================] - 1133s 7s/step - loss: 0.6133 - accuracy: 0.8476 - val_loss: 0.9391 - val_accuracy: 0.7331\n",
      "Epoch 4/10\n",
      "160/160 [==============================] - 1106s 7s/step - loss: 0.5189 - accuracy: 0.8702 - val_loss: 0.9150 - val_accuracy: 0.7316\n",
      "Epoch 5/10\n",
      "160/160 [==============================] - 1075s 7s/step - loss: 0.4581 - accuracy: 0.8863 - val_loss: 0.8984 - val_accuracy: 0.7370\n",
      "Epoch 6/10\n",
      "160/160 [==============================] - 1093s 7s/step - loss: 0.4106 - accuracy: 0.9046 - val_loss: 0.8820 - val_accuracy: 0.7441\n",
      "Epoch 7/10\n",
      "160/160 [==============================] - 1092s 7s/step - loss: 0.3442 - accuracy: 0.9191 - val_loss: 0.9069 - val_accuracy: 0.7347\n",
      "Epoch 8/10\n",
      "160/160 [==============================] - 1108s 7s/step - loss: 0.3216 - accuracy: 0.9242 - val_loss: 0.8824 - val_accuracy: 0.7394\n",
      "Epoch 9/10\n",
      "160/160 [==============================] - 1110s 7s/step - loss: 0.3028 - accuracy: 0.9281 - val_loss: 0.8630 - val_accuracy: 0.7535\n",
      "Epoch 10/10\n",
      "160/160 [==============================] - 1086s 7s/step - loss: 0.2789 - accuracy: 0.9370 - val_loss: 0.8715 - val_accuracy: 0.7512\n"
     ]
    },
    {
     "data": {
      "text/plain": [
       "<keras.src.callbacks.History at 0x1b306bb10>"
      ]
     },
     "execution_count": 57,
     "metadata": {},
     "output_type": "execute_result"
    }
   ],
   "source": [
    "# Train the model\n",
    "model.fit(train_generator, validation_data=validation_generator, epochs=10, batch_size=32)\n",
    "\n",
    "# Unfreeze some layers for fine-tuning\n",
    "for layer in base_model.layers[-20:]:\n",
    "    layer.trainable = True\n",
    "\n",
    "# Re-compile the model with a lower learning rate\n",
    "model.compile(optimizer=Adam(learning_rate=0.0001), loss='categorical_crossentropy', metrics=['accuracy'])\n",
    "\n",
    "# Continue training\n",
    "model.fit(train_generator, validation_data=validation_generator, epochs=10, batch_size=32)\n"
   ]
  },
  {
   "cell_type": "code",
   "execution_count": 58,
   "metadata": {},
   "outputs": [],
   "source": [
    "test_image_folder = 'Released_Data/test_shuffle'   # Correct path to your test images\n",
    "image_files = [os.path.join(test_image_folder, img) for img in os.listdir(test_image_folder) if img.endswith('.jpg')]\n",
    "test_df = pd.DataFrame(image_files, columns=['filename'])\n"
   ]
  },
  {
   "cell_type": "code",
   "execution_count": 59,
   "metadata": {},
   "outputs": [
    {
     "data": {
      "text/html": [
       "<div>\n",
       "<style scoped>\n",
       "    .dataframe tbody tr th:only-of-type {\n",
       "        vertical-align: middle;\n",
       "    }\n",
       "\n",
       "    .dataframe tbody tr th {\n",
       "        vertical-align: top;\n",
       "    }\n",
       "\n",
       "    .dataframe thead th {\n",
       "        text-align: right;\n",
       "    }\n",
       "</style>\n",
       "<table border=\"1\" class=\"dataframe\">\n",
       "  <thead>\n",
       "    <tr style=\"text-align: right;\">\n",
       "      <th></th>\n",
       "      <th>filename</th>\n",
       "    </tr>\n",
       "  </thead>\n",
       "  <tbody>\n",
       "    <tr>\n",
       "      <th>12372</th>\n",
       "      <td>Released_Data/test_shuffle/3561.jpg</td>\n",
       "    </tr>\n",
       "    <tr>\n",
       "      <th>12373</th>\n",
       "      <td>Released_Data/test_shuffle/8434.jpg</td>\n",
       "    </tr>\n",
       "    <tr>\n",
       "      <th>12374</th>\n",
       "      <td>Released_Data/test_shuffle/7707.jpg</td>\n",
       "    </tr>\n",
       "    <tr>\n",
       "      <th>12375</th>\n",
       "      <td>Released_Data/test_shuffle/6419.jpg</td>\n",
       "    </tr>\n",
       "    <tr>\n",
       "      <th>12376</th>\n",
       "      <td>Released_Data/test_shuffle/1376.jpg</td>\n",
       "    </tr>\n",
       "  </tbody>\n",
       "</table>\n",
       "</div>"
      ],
      "text/plain": [
       "                                  filename\n",
       "12372  Released_Data/test_shuffle/3561.jpg\n",
       "12373  Released_Data/test_shuffle/8434.jpg\n",
       "12374  Released_Data/test_shuffle/7707.jpg\n",
       "12375  Released_Data/test_shuffle/6419.jpg\n",
       "12376  Released_Data/test_shuffle/1376.jpg"
      ]
     },
     "execution_count": 59,
     "metadata": {},
     "output_type": "execute_result"
    }
   ],
   "source": [
    "test_df.tail()"
   ]
  },
  {
   "cell_type": "code",
   "execution_count": 60,
   "metadata": {},
   "outputs": [],
   "source": [
    "test_datagen = ImageDataGenerator(preprocessing_function=preprocess_input)\n"
   ]
  },
  {
   "cell_type": "code",
   "execution_count": 61,
   "metadata": {},
   "outputs": [
    {
     "name": "stdout",
     "output_type": "stream",
     "text": [
      "Found 12377 validated image filenames.\n"
     ]
    }
   ],
   "source": [
    "test_generator = test_datagen.flow_from_dataframe(\n",
    "    dataframe=test_df,\n",
    "    x_col='filename',\n",
    "    y_col=None,\n",
    "    target_size=(300, 300),\n",
    "    batch_size=32,\n",
    "    class_mode=None,\n",
    "    shuffle=False\n",
    ")\n"
   ]
  },
  {
   "cell_type": "code",
   "execution_count": 62,
   "metadata": {},
   "outputs": [
    {
     "name": "stdout",
     "output_type": "stream",
     "text": [
      "387/387 [==============================] - 1824s 5s/step\n"
     ]
    }
   ],
   "source": [
    "predictions = model.predict(test_generator)\n"
   ]
  },
  {
   "cell_type": "code",
   "execution_count": 63,
   "metadata": {},
   "outputs": [
    {
     "data": {
      "text/plain": [
       "array([22, 23,  0, ...,  6, 62, 38])"
      ]
     },
     "execution_count": 63,
     "metadata": {},
     "output_type": "execute_result"
    }
   ],
   "source": [
    "predicted_subclass_indices = np.argmax(predictions, axis=1)\n",
    "predicted_subclass_indices"
   ]
  },
  {
   "cell_type": "code",
   "execution_count": 64,
   "metadata": {},
   "outputs": [],
   "source": [
    "image_filenames = [f\"{i}.jpg\" for i in range(len(predictions))]\n"
   ]
  },
  {
   "cell_type": "code",
   "execution_count": 65,
   "metadata": {},
   "outputs": [],
   "source": [
    "results_df = pd.DataFrame({\n",
    "    'ID': image_filenames,\n",
    "    'Target': predicted_subclass_indices\n",
    "})\n"
   ]
  },
  {
   "cell_type": "code",
   "execution_count": 66,
   "metadata": {},
   "outputs": [],
   "source": [
    "results_df.to_csv(\"res/subclass_pred_augmented.csv\", index=False)"
   ]
  },
  {
   "cell_type": "code",
   "execution_count": null,
   "metadata": {},
   "outputs": [],
   "source": []
  }
 ],
 "metadata": {
  "kernelspec": {
   "display_name": "Python 3 (ipykernel)",
   "language": "python",
   "name": "python3"
  },
  "language_info": {
   "codemirror_mode": {
    "name": "ipython",
    "version": 3
   },
   "file_extension": ".py",
   "mimetype": "text/x-python",
   "name": "python",
   "nbconvert_exporter": "python",
   "pygments_lexer": "ipython3",
   "version": "3.11.5"
  }
 },
 "nbformat": 4,
 "nbformat_minor": 2
}
